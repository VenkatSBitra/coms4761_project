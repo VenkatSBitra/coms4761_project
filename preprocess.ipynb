{
 "cells": [
  {
   "cell_type": "code",
   "execution_count": 2,
   "id": "302c3912",
   "metadata": {},
   "outputs": [],
   "source": [
    "import scanpy as sc\n",
    "import pandas as pd\n",
    "import numpy as np"
   ]
  },
  {
   "cell_type": "code",
   "execution_count": 3,
   "id": "28961b8f",
   "metadata": {},
   "outputs": [],
   "source": [
    "male = sc.read_h5ad(\"data/mouse_male_gonadal.h5ad\")\n",
    "female = sc.read_h5ad(\"data/mouse_female_gonadal.h5ad\")"
   ]
  },
  {
   "cell_type": "code",
   "execution_count": 11,
   "id": "d3da68a3",
   "metadata": {},
   "outputs": [
    {
     "data": {
      "text/plain": [
       "array(['Theiler stage 19', 'Theiler stage 20', 'Theiler stage 21'],\n",
       "      dtype=object)"
      ]
     },
     "execution_count": 11,
     "metadata": {},
     "output_type": "execute_result"
    }
   ],
   "source": [
    "np.unique(male.obs['development_stage'])"
   ]
  },
  {
   "cell_type": "code",
   "execution_count": null,
   "id": "23b65ff1",
   "metadata": {},
   "outputs": [],
   "source": [
    "# male.X = male.raw.X\n",
    "# male.var_names = male.raw.var_names\n",
    "\n",
    "# female.X = female.raw.X\n",
    "# female.var_names = female.raw.var_names"
   ]
  },
  {
   "cell_type": "code",
   "execution_count": 10,
   "id": "b124b659",
   "metadata": {},
   "outputs": [
    {
     "name": "stdout",
     "output_type": "stream",
     "text": [
      "Male dataset:\n",
      "Shape: (32889, 24400)\n",
      "Data type: float32\n",
      "Min/Max values: 0.0 16701.0\n",
      "\n",
      "Female dataset:\n",
      "Shape: (69709, 25652)\n",
      "Data type: float32\n",
      "Min/Max values: 0.0 16526.0\n"
     ]
    }
   ],
   "source": [
    "print(\"Male dataset:\")\n",
    "print(\"Shape:\", male.shape)\n",
    "print(\"Data type:\", male.X.dtype)\n",
    "print(\"Min/Max values:\", np.min(male.X), np.max(male.X))\n",
    "print(\"\")\n",
    "\n",
    "print(\"Female dataset:\")\n",
    "print(\"Shape:\", female.shape)\n",
    "print(\"Data type:\", female.X.dtype)\n",
    "print(\"Min/Max values:\", np.min(female.X), np.max(female.X))"
   ]
  },
  {
   "cell_type": "code",
   "execution_count": 11,
   "id": "136ea3c9",
   "metadata": {},
   "outputs": [],
   "source": [
    "sc.pp.filter_cells(male, min_genes=200)\n",
    "sc.pp.filter_genes(male, min_cells=3)\n",
    "\n",
    "sc.pp.filter_cells(female, min_genes=200)\n",
    "sc.pp.filter_genes(female, min_cells=3)"
   ]
  },
  {
   "cell_type": "code",
   "execution_count": null,
   "id": "fe505702",
   "metadata": {},
   "outputs": [],
   "source": [
    "sc.pp.normalize_total(male, target_sum=1e4)\n",
    "sc.pp.log1p(male)\n",
    "\n",
    "sc.pp.normalize_total(female, target_sum=1e4)\n",
    "sc.pp.log1p(female)"
   ]
  },
  {
   "cell_type": "code",
   "execution_count": 13,
   "id": "4304c290",
   "metadata": {},
   "outputs": [
    {
     "data": {
      "text/plain": [
       "Index(['ENSMUSG00000109644', 'ENSMUSG00000007777', 'ENSMUSG00000086714',\n",
       "       'ENSMUSG00000043644', 'ENSMUSG00000042208', 'ENSMUSG00000020831',\n",
       "       'ENSMUSG00000107002', 'ENSMUSG00000046683', 'ENSMUSG00000058706',\n",
       "       'ENSMUSG00000099146',\n",
       "       ...\n",
       "       'ENSMUSG00000064354', 'ENSMUSG00000064358', 'ENSMUSG00000064370',\n",
       "       'ENSMUSG00000064341', 'ENSMUSG00000064345', 'ENSMUSG00000064360',\n",
       "       'ENSMUSG00000064363', 'ENSMUSG00000065947', 'ENSMUSG00000064367',\n",
       "       'ENSMUSG00000064368'],\n",
       "      dtype='object', length=23776)"
      ]
     },
     "execution_count": 13,
     "metadata": {},
     "output_type": "execute_result"
    }
   ],
   "source": [
    "male.var_names"
   ]
  },
  {
   "cell_type": "code",
   "execution_count": 14,
   "id": "098f633e",
   "metadata": {},
   "outputs": [
    {
     "data": {
      "text/plain": [
       "Index(['ENSMUSG00000109644', 'ENSMUSG00000108652', 'ENSMUSG00000007777',\n",
       "       'ENSMUSG00000086714', 'ENSMUSG00000043644', 'ENSMUSG00000042208',\n",
       "       'ENSMUSG00000020831', 'ENSMUSG00000107002', 'ENSMUSG00000046683',\n",
       "       'ENSMUSG00000058706',\n",
       "       ...\n",
       "       'ENSMUSG00000064354', 'ENSMUSG00000064358', 'ENSMUSG00000064370',\n",
       "       'ENSMUSG00000064341', 'ENSMUSG00000064345', 'ENSMUSG00000064360',\n",
       "       'ENSMUSG00000064363', 'ENSMUSG00000065947', 'ENSMUSG00000064367',\n",
       "       'ENSMUSG00000064368'],\n",
       "      dtype='object', length=25093)"
      ]
     },
     "execution_count": 14,
     "metadata": {},
     "output_type": "execute_result"
    }
   ],
   "source": [
    "female.var_names"
   ]
  },
  {
   "cell_type": "code",
   "execution_count": 15,
   "id": "6b6aced4",
   "metadata": {},
   "outputs": [],
   "source": [
    "common_genes = male.var_names.intersection(female.var_names)\n",
    "male_data = male[:, common_genes].copy()\n",
    "female_data = female[:, common_genes].copy()"
   ]
  },
  {
   "cell_type": "code",
   "execution_count": 16,
   "id": "f5a8f895",
   "metadata": {},
   "outputs": [],
   "source": [
    "# Filter for male data\n",
    "cell_counts_male = male_data.obs['cell_type'].value_counts()\n",
    "valid_cell_types_male = cell_counts_male[cell_counts_male >= 100].index\n",
    "male_data = male_data[male_data.obs['cell_type'].isin(valid_cell_types_male), :]\n",
    "\n",
    "# Filter for female data\n",
    "cell_counts_female = female_data.obs['cell_type'].value_counts()\n",
    "valid_cell_types_female = cell_counts_female[cell_counts_female >= 100].index\n",
    "female_data = female_data[female_data.obs['cell_type'].isin(valid_cell_types_female), :]\n"
   ]
  },
  {
   "cell_type": "code",
   "execution_count": 17,
   "id": "9c0b1fd2",
   "metadata": {},
   "outputs": [],
   "source": [
    "common_cell_types = set(male_data.obs['cell_type']).intersection(female_data.obs['cell_type'])\n",
    "male_data = male_data[male_data.obs['cell_type'].isin(common_cell_types), :]\n",
    "female_data = female_data[female_data.obs['cell_type'].isin(common_cell_types), :]"
   ]
  },
  {
   "cell_type": "code",
   "execution_count": 18,
   "id": "31a728b4",
   "metadata": {},
   "outputs": [],
   "source": [
    "# sc.pp.normalize_total(male_data, target_sum=1e4)\n",
    "# sc.pp.log1p(male_data)\n",
    "\n",
    "# sc.pp.normalize_total(female_data, target_sum=1e4)\n",
    "# sc.pp.log1p(female_data)"
   ]
  },
  {
   "cell_type": "code",
   "execution_count": 19,
   "id": "7ffde29a",
   "metadata": {},
   "outputs": [],
   "source": [
    "sorted_genes = sorted(male_data.var_names)\n",
    "male_data = male_data[:, sorted_genes]\n",
    "female_data = female_data[:, sorted_genes]\n"
   ]
  },
  {
   "cell_type": "code",
   "execution_count": 20,
   "id": "2ad4dd77",
   "metadata": {},
   "outputs": [],
   "source": [
    "male_df = pd.DataFrame(male_data.X.toarray(), index=male_data.obs_names, columns=sorted_genes)\n",
    "female_df = pd.DataFrame(female_data.X.toarray(), index=female_data.obs_names, columns=sorted_genes)"
   ]
  },
  {
   "cell_type": "code",
   "execution_count": 21,
   "id": "ee47b5f9",
   "metadata": {},
   "outputs": [
    {
     "name": "stdout",
     "output_type": "stream",
     "text": [
      "(30784, 23333)\n",
      "(33120, 23333)\n"
     ]
    }
   ],
   "source": [
    "print(male_df.shape)\n",
    "print(female_df.shape)"
   ]
  },
  {
   "cell_type": "code",
   "execution_count": 22,
   "id": "bbdd5a1c",
   "metadata": {},
   "outputs": [
    {
     "data": {
      "text/plain": [
       "HCA_Mou_10827181_AAACCTGAGTAGATGT         mesenchymal cell\n",
       "HCA_Mou_10827181_AAACCTGAGTCATGCT         mesenchymal cell\n",
       "HCA_Mou_10827181_AAACCTGCAAGAGTCG          epithelial cell\n",
       "HCA_Mou_10827181_AAACCTGCAGACACTT         mesenchymal cell\n",
       "HCA_Mou_10827181_AAACCTGCATGCCTTC         mesenchymal cell\n",
       "                                             ...          \n",
       "HCA_Mou_10827186_TTTGTCAAGTGGAGAA         mesenchymal cell\n",
       "HCA_Mou_10827186_TTTGTCACACCACCAG         mesenchymal cell\n",
       "HCA_Mou_10827186_TTTGTCACACGTGAGA         mesenchymal cell\n",
       "HCA_Mou_10827186_TTTGTCACATGACATC              neural cell\n",
       "HCA_Mou_10827186_TTTGTCAGTAAGGGCT    skeletal muscle fiber\n",
       "Name: cell_type, Length: 30784, dtype: category\n",
       "Categories (8, object): ['epithelial cell', 'endothelial cell', 'erythrocyte', 'germ cell', 'supporting cell', 'neural cell', 'skeletal muscle fiber', 'mesenchymal cell']"
      ]
     },
     "execution_count": 22,
     "metadata": {},
     "output_type": "execute_result"
    }
   ],
   "source": [
    "male_data.obs['cell_type']"
   ]
  },
  {
   "cell_type": "code",
   "execution_count": 23,
   "id": "22885a7e",
   "metadata": {},
   "outputs": [
    {
     "data": {
      "text/plain": [
       "HCA_Mou_10828699_AAACCTGAGTGTTGAA-Sanger        supporting cell\n",
       "HCA_Mou_10828699_AAACCTGAGTTACCCA-Sanger        supporting cell\n",
       "HCA_Mou_10828699_AAACGGGCATCGTCGG-Sanger              germ cell\n",
       "HCA_Mou_10828699_AAAGATGAGAAGGGTA-Sanger        supporting cell\n",
       "HCA_Mou_10828699_AAAGATGCAATCACAC-Sanger        supporting cell\n",
       "                                                     ...       \n",
       "GSM4643738_P5ovary_TTATGCTAGGATGGAA-Niu2020    endothelial cell\n",
       "GSM4643738_P5ovary_TTCTTAGCAGTAAGAT-Niu2020           germ cell\n",
       "GSM4643738_P5ovary_TTGAACGAGAGCTTCT-Niu2020           germ cell\n",
       "GSM4643738_P5ovary_TTGAACGCATGGTCTA-Niu2020    endothelial cell\n",
       "GSM4643738_P5ovary_TTGTAGGAGGTACTCT-Niu2020    endothelial cell\n",
       "Name: cell_type, Length: 33120, dtype: category\n",
       "Categories (8, object): ['epithelial cell', 'endothelial cell', 'erythrocyte', 'germ cell', 'supporting cell', 'neural cell', 'skeletal muscle fiber', 'mesenchymal cell']"
      ]
     },
     "execution_count": 23,
     "metadata": {},
     "output_type": "execute_result"
    }
   ],
   "source": [
    "female_data.obs['cell_type']"
   ]
  },
  {
   "cell_type": "code",
   "execution_count": null,
   "id": "d90d5e10",
   "metadata": {},
   "outputs": [],
   "source": [
    "male_data.write_h5ad('cleaned_data/male_gonadal.h5ad')\n",
    "female_data.write_h5ad('cleaned_data/female_gonadal.h5ad')"
   ]
  },
  {
   "cell_type": "code",
   "execution_count": null,
   "id": "faba80aa",
   "metadata": {},
   "outputs": [],
   "source": []
  }
 ],
 "metadata": {
  "kernelspec": {
   "display_name": "ml",
   "language": "python",
   "name": "python3"
  },
  "language_info": {
   "codemirror_mode": {
    "name": "ipython",
    "version": 3
   },
   "file_extension": ".py",
   "mimetype": "text/x-python",
   "name": "python",
   "nbconvert_exporter": "python",
   "pygments_lexer": "ipython3",
   "version": "3.10.16"
  }
 },
 "nbformat": 4,
 "nbformat_minor": 5
}
